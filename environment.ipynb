{
 "cells": [
  {
   "cell_type": "code",
   "execution_count": null,
   "metadata": {},
   "outputs": [],
   "source": [
    "import gym\n",
    "\n",
    "env = gym.make('Breakout-ram-v4')\n",
    "\n",
    "for epoch in range(20):\n",
    "    env.reset()\n",
    "    while True:\n",
    "        obs, reward, is_done, _ = env.step(env.action_space.sample())\n",
    "        env.render()\n",
    "        if is_done:\n",
    "            break\n",
    "env.close()"
   ]
  },
  {
   "cell_type": "code",
   "execution_count": null,
   "metadata": {
    "scrolled": false
   },
   "outputs": [],
   "source": [
    "%matplotlib inline\n",
    "\n",
    "import matplotlib\n",
    "import numpy as np\n",
    "import matplotlib.pyplot as plt\n",
    "\n",
    "x = np.linspace(0, 10)\n",
    "line, = plt.plot(x, np.sin(x), '--', linewidth=2)"
   ]
  },
  {
   "cell_type": "code",
   "execution_count": null,
   "metadata": {},
   "outputs": [],
   "source": [
    "import torch\n",
    "\n",
    "device = torch.device('cpu')\n",
    "dtype = torch.float\n",
    "\n",
    "matrix_a = torch.randn(5, 5)\n",
    "matrix_b = torch.randn(5, 5)\n",
    "activation = torch.nn.Tanh()\n",
    "\n",
    "activated = activation(matrix_a.mm(matrix_b))\n",
    "\n",
    "print(matrix_a)\n",
    "print(matrix_b)\n",
    "print(activated)"
   ]
  }
 ],
 "metadata": {
  "kernelspec": {
   "display_name": "Python 2",
   "language": "python",
   "name": "python2"
  },
  "language_info": {
   "codemirror_mode": {
    "name": "ipython",
    "version": 3
   },
   "file_extension": ".py",
   "mimetype": "text/x-python",
   "name": "python",
   "nbconvert_exporter": "python",
   "pygments_lexer": "ipython3",
   "version": "3.7.0"
  }
 },
 "nbformat": 4,
 "nbformat_minor": 2
}
