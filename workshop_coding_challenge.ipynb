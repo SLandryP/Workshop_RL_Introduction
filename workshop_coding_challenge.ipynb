{
 "cells": [
  {
   "cell_type": "code",
   "execution_count": null,
   "metadata": {},
   "outputs": [],
   "source": [
    "import gym\n",
    "import numpy as np\n",
    "\n",
    "env = gym.make('Breakout-ram-v4')\n",
    "\n",
    "print(env.unwrapped.get_action_meanings())\n",
    "\n",
    "for epoch in range(20):\n",
    "    env.reset()\n",
    "    \n",
    "    while True:\n",
    "        obs, reward, is_done, infos = env.step(env.action_space.sample())\n",
    "        env.render()\n",
    "        \n",
    "        ram = np.asarray(obs)\n",
    "        \n",
    "        print('observations:', ram)\n",
    "        print('reward:', reward)\n",
    "        print('debug informations:', infos)\n",
    "        \n",
    "        \n",
    "        if is_done:\n",
    "            break\n",
    "            \n",
    "env.close()"
   ]
  }
 ],
 "metadata": {
  "kernelspec": {
   "display_name": "Python 3",
   "language": "python",
   "name": "python3"
  },
  "language_info": {
   "codemirror_mode": {
    "name": "ipython",
    "version": 3
   },
   "file_extension": ".py",
   "mimetype": "text/x-python",
   "name": "python",
   "nbconvert_exporter": "python",
   "pygments_lexer": "ipython3",
   "version": "3.7.0"
  }
 },
 "nbformat": 4,
 "nbformat_minor": 2
}
